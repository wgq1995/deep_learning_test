{
 "cells": [
  {
   "cell_type": "markdown",
   "metadata": {},
   "source": [
    "# torch的基本操作"
   ]
  },
  {
   "cell_type": "code",
   "execution_count": 1,
   "metadata": {},
   "outputs": [],
   "source": [
    "import numpy as np\n",
    "import torch"
   ]
  },
  {
   "cell_type": "markdown",
   "metadata": {},
   "source": [
    "## 1 创建一个tensor\n",
    "    1.从列表创建\n",
    "    2.从np.array创建"
   ]
  },
  {
   "cell_type": "code",
   "execution_count": 2,
   "metadata": {},
   "outputs": [],
   "source": [
    "# t1列表， t2 np.array\n",
    "t1 = [\n",
    "    [1, 2, 3],\n",
    "    [4, 5, 6]\n",
    "]\n",
    "t2 = np.array([\n",
    "    [7, 8, 9],\n",
    "    [10, 11, 12]\n",
    "])"
   ]
  },
  {
   "cell_type": "code",
   "execution_count": 3,
   "metadata": {},
   "outputs": [
    {
     "name": "stdout",
     "output_type": "stream",
     "text": [
      "\n",
      " 1  2  3\n",
      " 4  5  6\n",
      "[torch.FloatTensor of size 2x3]\n",
      "\n"
     ]
    }
   ],
   "source": [
    "# from list\n",
    "t1 = torch.Tensor(t1)\n",
    "print(t1)"
   ]
  },
  {
   "cell_type": "code",
   "execution_count": 4,
   "metadata": {},
   "outputs": [
    {
     "name": "stdout",
     "output_type": "stream",
     "text": [
      "\n",
      "  7   8   9\n",
      " 10  11  12\n",
      "[torch.FloatTensor of size 2x3]\n",
      "\n"
     ]
    }
   ],
   "source": [
    "# from np.array\n",
    "t2 = torch.from_numpy(t2).float()\n",
    "print(t2)"
   ]
  },
  {
   "cell_type": "markdown",
   "metadata": {},
   "source": [
    "##  2 拼接\n",
    "    这里指定的维度参数是dim，而不是axis"
   ]
  },
  {
   "cell_type": "code",
   "execution_count": 5,
   "metadata": {},
   "outputs": [
    {
     "name": "stdout",
     "output_type": "stream",
     "text": [
      "\n",
      "  1   2   3\n",
      "  4   5   6\n",
      "  7   8   9\n",
      " 10  11  12\n",
      "[torch.FloatTensor of size 4x3]\n",
      "\n"
     ]
    }
   ],
   "source": [
    "t_concat0= torch.cat([t1, t2], dim=0)\n",
    "print(t_concat0)"
   ]
  },
  {
   "cell_type": "code",
   "execution_count": 6,
   "metadata": {},
   "outputs": [
    {
     "name": "stdout",
     "output_type": "stream",
     "text": [
      "\n",
      "  1   2   3   7   8   9\n",
      "  4   5   6  10  11  12\n",
      "[torch.FloatTensor of size 2x6]\n",
      "\n"
     ]
    }
   ],
   "source": [
    "t_concat1 = torch.cat([t1, t2], dim=1)\n",
    "print(t_concat1)"
   ]
  },
  {
   "cell_type": "markdown",
   "metadata": {},
   "source": [
    "## 3 切片\n",
    "    3.1 可以直接用类似python的方法切\n",
    "    3.2 可以用chunk, 指定chunk的个数chunk，维度, （这里的chunks如果不能整除的话，会自动按小于chunks的最大可整除数目切分， 例如：维度是6,chunks为5,会自动按3切）\n",
    "    3.3 可以用index_select在特定维度取出特定数据, 注意index必须要传入LongTensor，不能用列表\n",
    "    3.4 split ,需要设置split_size（每块有多少数据），如果当前的未切分数据比split_size小，就直接返回当前数据，例如一共6条，split_size=5，返回两块数据，第一块5条，第二块1条"
   ]
  },
  {
   "cell_type": "code",
   "execution_count": 7,
   "metadata": {},
   "outputs": [
    {
     "name": "stdout",
     "output_type": "stream",
     "text": [
      "\n",
      "  2   3\n",
      "  5   6\n",
      "  8   9\n",
      " 11  12\n",
      "[torch.FloatTensor of size 4x2]\n",
      "\n"
     ]
    }
   ],
   "source": [
    "# 直接切\n",
    "print(t_concat0[:, 1:3])"
   ]
  },
  {
   "cell_type": "code",
   "execution_count": 8,
   "metadata": {},
   "outputs": [
    {
     "name": "stdout",
     "output_type": "stream",
     "text": [
      "(\n",
      " 1  2\n",
      " 4  5\n",
      "[torch.FloatTensor of size 2x2]\n",
      ", \n",
      "  3   7\n",
      "  6  10\n",
      "[torch.FloatTensor of size 2x2]\n",
      ", \n",
      "  8   9\n",
      " 11  12\n",
      "[torch.FloatTensor of size 2x2]\n",
      ")\n"
     ]
    }
   ],
   "source": [
    "# 等分chunk切\n",
    "print(torch.chunk(t_concat1, chunks=5, dim=1))"
   ]
  },
  {
   "cell_type": "code",
   "execution_count": 9,
   "metadata": {},
   "outputs": [
    {
     "name": "stdout",
     "output_type": "stream",
     "text": [
      "\n",
      "  2   7   9\n",
      "  5  10  12\n",
      "[torch.FloatTensor of size 2x3]\n",
      "\n"
     ]
    }
   ],
   "source": [
    "# index_select切\n",
    "print(torch.index_select(t_concat1, dim=1, index=torch.LongTensor([1, 3, 5])))"
   ]
  },
  {
   "cell_type": "code",
   "execution_count": 10,
   "metadata": {},
   "outputs": [
    {
     "name": "stdout",
     "output_type": "stream",
     "text": [
      "(\n",
      "  1   2   3   7   8\n",
      "  4   5   6  10  11\n",
      "[torch.FloatTensor of size 2x5]\n",
      ", \n",
      "  9\n",
      " 12\n",
      "[torch.FloatTensor of size 2x1]\n",
      ")\n"
     ]
    }
   ],
   "source": [
    "# split切\n",
    "print(torch.split(t_concat1, split_size=5, dim=1))"
   ]
  },
  {
   "cell_type": "markdown",
   "metadata": {},
   "source": [
    "## 4 增加/减少维度\n",
    "    1.增加维度用unsqueeze\n",
    "    2.减小维度用squeeze, 如果不指定dim，就把所有为1的维度压缩，如果指定dim就只压缩指定的"
   ]
  },
  {
   "cell_type": "code",
   "execution_count": 11,
   "metadata": {},
   "outputs": [
    {
     "name": "stdout",
     "output_type": "stream",
     "text": [
      "\n",
      "(0 ,.,.) = \n",
      "   1   2   3\n",
      "   4   5   6\n",
      "   7   8   9\n",
      "  10  11  12\n",
      "[torch.FloatTensor of size 1x4x3]\n",
      "\n",
      "\n",
      "(0 ,0 ,.,.) = \n",
      "   1   2   3\n",
      "\n",
      "(0 ,1 ,.,.) = \n",
      "   4   5   6\n",
      "\n",
      "(0 ,2 ,.,.) = \n",
      "   7   8   9\n",
      "\n",
      "(0 ,3 ,.,.) = \n",
      "  10  11  12\n",
      "[torch.FloatTensor of size 1x4x1x3]\n",
      "\n"
     ]
    }
   ],
   "source": [
    "# 增加维度\n",
    "t_unsq = torch.unsqueeze(t_concat0, dim=0)\n",
    "print(t_unsq)\n",
    "t_unsq = torch.unsqueeze(t_unsq, dim=2)\n",
    "print(t_unsq)"
   ]
  },
  {
   "cell_type": "code",
   "execution_count": 12,
   "metadata": {},
   "outputs": [
    {
     "name": "stdout",
     "output_type": "stream",
     "text": [
      "\n",
      "  1   2   3\n",
      "  4   5   6\n",
      "  7   8   9\n",
      " 10  11  12\n",
      "[torch.FloatTensor of size 4x3]\n",
      "\n",
      "\n",
      "(0 ,.,.) = \n",
      "   1   2   3\n",
      "   4   5   6\n",
      "   7   8   9\n",
      "  10  11  12\n",
      "[torch.FloatTensor of size 1x4x3]\n",
      "\n"
     ]
    }
   ],
   "source": [
    "# 减小维度\n",
    "print(torch.squeeze(t_unsq))\n",
    "print(torch.squeeze(t_unsq, dim=2))"
   ]
  },
  {
   "cell_type": "markdown",
   "metadata": {},
   "source": [
    "## 5 转换维度\n",
    "    1. permute, 将重新排列的维度写在括号里就可以了"
   ]
  },
  {
   "cell_type": "code",
   "execution_count": 13,
   "metadata": {},
   "outputs": [
    {
     "name": "stdout",
     "output_type": "stream",
     "text": [
      "\n",
      " 1  4\n",
      " 2  5\n",
      " 3  6\n",
      "[torch.FloatTensor of size 3x2]\n",
      "\n"
     ]
    }
   ],
   "source": [
    "print(t1.permute(1, 0))"
   ]
  },
  {
   "cell_type": "markdown",
   "metadata": {},
   "source": [
    "## 6 stack\n",
    "    会增加维度，在dim处加，然后在dim处cat,  默认dim=0\n",
    "    stack([a, b], dim) 相当于下面两步的集合：\n",
    "        1. a = torch.unsqueeze(a, dim), b = torch.unsqueeze(b, dim)\n",
    "        2. torch.cat([a, b], dim)"
   ]
  },
  {
   "cell_type": "code",
   "execution_count": 14,
   "metadata": {},
   "outputs": [
    {
     "name": "stdout",
     "output_type": "stream",
     "text": [
      "\n",
      "(0 ,.,.) = \n",
      "   1   2   3\n",
      "   4   5   6\n",
      "\n",
      "(1 ,.,.) = \n",
      "   7   8   9\n",
      "  10  11  12\n",
      "[torch.FloatTensor of size 2x2x3]\n",
      "\n",
      "\n",
      "  1   2   3\n",
      "  4   5   6\n",
      "  7   8   9\n",
      " 10  11  12\n",
      "[torch.FloatTensor of size 4x3]\n",
      "\n"
     ]
    }
   ],
   "source": [
    "print(torch.stack([t1, t2], dim=0))\n",
    "print(torch.cat([t1, t2], dim=0))"
   ]
  },
  {
   "cell_type": "code",
   "execution_count": 15,
   "metadata": {},
   "outputs": [
    {
     "name": "stdout",
     "output_type": "stream",
     "text": [
      "\n",
      "(0 ,.,.) = \n",
      "   1   2   3\n",
      "   7   8   9\n",
      "\n",
      "(1 ,.,.) = \n",
      "   4   5   6\n",
      "  10  11  12\n",
      "[torch.FloatTensor of size 2x2x3]\n",
      "\n",
      "\n",
      "  1   2   3   7   8   9\n",
      "  4   5   6  10  11  12\n",
      "[torch.FloatTensor of size 2x6]\n",
      "\n"
     ]
    }
   ],
   "source": [
    "print(torch.stack([t1, t2], dim=1))\n",
    "print(torch.cat([t1, t2], dim=1))"
   ]
  },
  {
   "cell_type": "code",
   "execution_count": 16,
   "metadata": {},
   "outputs": [
    {
     "name": "stdout",
     "output_type": "stream",
     "text": [
      "\n",
      "(0 ,.,.) = \n",
      "   1   7\n",
      "   2   8\n",
      "   3   9\n",
      "\n",
      "(1 ,.,.) = \n",
      "   4  10\n",
      "   5  11\n",
      "   6  12\n",
      "[torch.FloatTensor of size 2x3x2]\n",
      "\n"
     ]
    }
   ],
   "source": [
    "print(torch.stack([t1, t2], dim=2))"
   ]
  },
  {
   "cell_type": "code",
   "execution_count": 17,
   "metadata": {},
   "outputs": [
    {
     "name": "stdout",
     "output_type": "stream",
     "text": [
      "\n",
      "(0 ,.,.) = \n",
      "   1   7\n",
      "   2   8\n",
      "   3   9\n",
      "\n",
      "(1 ,.,.) = \n",
      "   4  10\n",
      "   5  11\n",
      "   6  12\n",
      "[torch.FloatTensor of size 2x3x2]\n",
      "\n"
     ]
    }
   ],
   "source": [
    "# 验证一下，stack是不是如上面两步说的\n",
    "t11 = torch.unsqueeze(t1, 2)\n",
    "t22 = torch.unsqueeze(t2, 2)\n",
    "print(torch.cat([t11, t22], 2))"
   ]
  },
  {
   "cell_type": "code",
   "execution_count": null,
   "metadata": {
    "collapsed": true
   },
   "outputs": [],
   "source": []
  },
  {
   "cell_type": "code",
   "execution_count": null,
   "metadata": {
    "collapsed": true
   },
   "outputs": [],
   "source": []
  }
 ],
 "metadata": {
  "kernelspec": {
   "display_name": "Python 3",
   "language": "python",
   "name": "python3"
  },
  "language_info": {
   "codemirror_mode": {
    "name": "ipython",
    "version": 3
   },
   "file_extension": ".py",
   "mimetype": "text/x-python",
   "name": "python",
   "nbconvert_exporter": "python",
   "pygments_lexer": "ipython3",
   "version": "3.6.2"
  }
 },
 "nbformat": 4,
 "nbformat_minor": 2
}
